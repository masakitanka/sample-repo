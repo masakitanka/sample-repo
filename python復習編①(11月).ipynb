{
  "nbformat": 4,
  "nbformat_minor": 0,
  "metadata": {
    "colab": {
      "name": "python復習編①(11月)",
      "provenance": [],
      "authorship_tag": "ABX9TyN195gL6Ku6XjhwtgaKCZpe",
      "include_colab_link": true
    },
    "kernelspec": {
      "name": "python3",
      "display_name": "Python 3"
    },
    "language_info": {
      "name": "python"
    }
  },
  "cells": [
    {
      "cell_type": "markdown",
      "metadata": {
        "id": "view-in-github",
        "colab_type": "text"
      },
      "source": [
        "<a href=\"https://colab.research.google.com/github/masakitanka/sample-repo/blob/main/python%E5%BE%A9%E7%BF%92%E7%B7%A8%E2%91%A0(11%E6%9C%88).ipynb\" target=\"_parent\"><img src=\"https://colab.research.google.com/assets/colab-badge.svg\" alt=\"Open In Colab\"/></a>"
      ]
    },
    {
      "cell_type": "code",
      "metadata": {
        "id": "dJFw2S__uu3z"
      },
      "source": [
        "#大学講義第1回 問1~ 問7\n",
        "a = 8/3\n",
        "print(a)\n",
        "\n",
        "b = 'apple'\n",
        "for i in b:\n",
        "  print(i)\n",
        "print(len(b))\n",
        "\n",
        "lis = ['apple','orange','banana','peach']\n",
        "lis[2]\n",
        "for i in lis:\n",
        "  print(i)\n",
        "\n",
        "#問4\n",
        "s = 'zero,one,two,three'\n",
        "lis1 = s.split(',') #splitは非破壊型のメソッド\n",
        "print(lis1) #→この記述では題意(問4)を満たせていないと考える　→splitのメソッドの使い方 （大学院講義) →　区切り文字とは何かを理解していなかった\n",
        "\n",
        "s1 = ','.join(lis1)\n",
        "print(s1)\n",
        "\n",
        "x=-1\n",
        "if x <0:\n",
        "  print('negative')\n",
        "elif x==0:\n",
        "  print('zero')\n",
        "else:\n",
        "  print('positive')\n",
        "\n",
        "for i in range(11,21,2):\n",
        "  print(i)\n",
        "\n",
        "def func(x):\n",
        "  x =  x*2\n",
        "  return x\n",
        "\n",
        "func(4)"
      ],
      "execution_count": null,
      "outputs": []
    },
    {
      "cell_type": "code",
      "metadata": {
        "colab": {
          "base_uri": "https://localhost:8080/",
          "height": 202
        },
        "id": "XncbdY_Nz5iq",
        "outputId": "3c0b91a5-9b2c-4cb7-b4d0-08fd970418e7"
      },
      "source": [
        "#問7\n",
        "def func():\n",
        "  return x*2\n",
        "func(2)\n",
        "#TypeError: func() takes 0 positional arguments but 1 was given"
      ],
      "execution_count": 24,
      "outputs": [
        {
          "output_type": "error",
          "ename": "TypeError",
          "evalue": "ignored",
          "traceback": [
            "\u001b[0;31m---------------------------------------------------------------------------\u001b[0m",
            "\u001b[0;31mTypeError\u001b[0m                                 Traceback (most recent call last)",
            "\u001b[0;32m<ipython-input-24-8a338214b6f3>\u001b[0m in \u001b[0;36m<module>\u001b[0;34m()\u001b[0m\n\u001b[1;32m      1\u001b[0m \u001b[0;32mdef\u001b[0m \u001b[0mfunc\u001b[0m\u001b[0;34m(\u001b[0m\u001b[0;34m)\u001b[0m\u001b[0;34m:\u001b[0m\u001b[0;34m\u001b[0m\u001b[0;34m\u001b[0m\u001b[0m\n\u001b[1;32m      2\u001b[0m   \u001b[0;32mreturn\u001b[0m \u001b[0mx\u001b[0m\u001b[0;34m*\u001b[0m\u001b[0;36m2\u001b[0m\u001b[0;34m\u001b[0m\u001b[0;34m\u001b[0m\u001b[0m\n\u001b[0;32m----> 3\u001b[0;31m \u001b[0mfunc\u001b[0m\u001b[0;34m(\u001b[0m\u001b[0;36m2\u001b[0m\u001b[0;34m)\u001b[0m\u001b[0;34m\u001b[0m\u001b[0;34m\u001b[0m\u001b[0m\n\u001b[0m",
            "\u001b[0;31mTypeError\u001b[0m: func() takes 0 positional arguments but 1 was given"
          ]
        }
      ]
    },
    {
      "cell_type": "code",
      "metadata": {
        "colab": {
          "base_uri": "https://localhost:8080/"
        },
        "id": "kNUfc8EKzKSP",
        "outputId": "a95cf9f8-6cfa-4372-c63a-69675591807a"
      },
      "source": [
        "#AIJobColle Q4.2 ~Q4.6\n",
        "def func():\n",
        "  print('hello!')\n",
        "func()\n",
        "\n",
        "def func(x,y):\n",
        "  return x+y\n",
        "func(2,3)\n",
        "\n",
        "#Q4.3\n",
        "def func(z):\n",
        "  if z >100:#以上　>= 比較演算子を使っているから、elseの場合分けが必要かを考えなければいけなかった\n",
        "    print('True')\n",
        "  else:\n",
        "    print('Negative')\n",
        "func(4)\n",
        "\n",
        "def func(x='引数がないです'): #キーワード引数が理解できているかは正直怪しい\n",
        "  return x\n",
        "func(2)\n",
        "\n",
        "def func(i):\n",
        "  s = len(str(i)) #return len(str(i))\n",
        "  return s\n",
        "func(12345)\n",
        "\n",
        "#Q4.6 lambda式は正直よくわかっていない　→亀さん講座\n",
        "#lambda x+y :\n",
        "#lambda (x,y: x + y)(1,2)\n",
        "(lambda x,y : x+y)(1,2)"
      ],
      "execution_count": 36,
      "outputs": [
        {
          "output_type": "stream",
          "name": "stdout",
          "text": [
            "hello!\n",
            "Negative\n"
          ]
        },
        {
          "output_type": "execute_result",
          "data": {
            "text/plain": [
              "3"
            ]
          },
          "metadata": {},
          "execution_count": 36
        }
      ]
    },
    {
      "cell_type": "code",
      "metadata": {
        "id": "-snjLwm14C1f"
      },
      "source": [
        "#はやたす100問　セクション2 [１０問]\n",
        "a = 7 \n",
        "b=3 \n",
        "print(f'{a}+{b} = {a+b}')\n",
        "print(f'{a}-{b} = {a-b}')\n",
        "\n",
        "#print(f'{a}*{b} = {a*b}')\n",
        "print(f'{a}×{b} = {a*b}')\n",
        "\n",
        "print(f'{a}÷{b} = {a//b}余り{a%b}')\n",
        "print(f'{a}÷{b} = {a/b}')"
      ],
      "execution_count": null,
      "outputs": []
    },
    {
      "cell_type": "code",
      "metadata": {
        "colab": {
          "base_uri": "https://localhost:8080/"
        },
        "id": "8bz3FwCp5mLA",
        "outputId": "23a5753c-389f-4ce1-f205-94a4caea2b27"
      },
      "source": [
        "input_str = input('好きな文字を入力してください>')\n",
        "print(f'入力された文字 : {input_str}')"
      ],
      "execution_count": 40,
      "outputs": [
        {
          "output_type": "stream",
          "name": "stdout",
          "text": [
            "好きな文字を入力してください>Python\n",
            "入力された文字 : Python\n"
          ]
        }
      ]
    },
    {
      "cell_type": "code",
      "metadata": {
        "colab": {
          "base_uri": "https://localhost:8080/"
        },
        "id": "BvYFvlGM6Alm",
        "outputId": "42395edb-abd8-44c6-946b-76939c43ad74"
      },
      "source": [
        "#演習3\n",
        "input_i = int(input('好きな整数を入力してください>')) #l2じゃなくてここの後ろの括弧の数が足りていなかった\n",
        "print(f'{input_i}の2乗値 : {input_i**2}')"
      ],
      "execution_count": 47,
      "outputs": [
        {
          "output_type": "stream",
          "name": "stdout",
          "text": [
            "好きな整数を入力してください>3\n",
            "3の2乗値 : 9\n"
          ]
        }
      ]
    },
    {
      "cell_type": "code",
      "metadata": {
        "id": "w_MDLbLS69hy"
      },
      "source": [
        "for i in range(1,31):\n",
        "  print(i)"
      ],
      "execution_count": null,
      "outputs": []
    },
    {
      "cell_type": "code",
      "metadata": {
        "id": "jOkA_0qn7kCk"
      },
      "source": [
        "#演習5 while文\n",
        "i = 0\n",
        "while i < 30:\n",
        "  i = i+1 # i+=1 この表記の方がpythonでは一般的\n",
        "#print(i) インデントの位置\n",
        "  print(i) "
      ],
      "execution_count": null,
      "outputs": []
    },
    {
      "cell_type": "code",
      "metadata": {
        "id": "iUvMG6zt8cfL"
      },
      "source": [
        "for i in range(1,31):\n",
        "  if i%3 ==0 :\n",
        "    print(i)"
      ],
      "execution_count": null,
      "outputs": []
    },
    {
      "cell_type": "code",
      "metadata": {
        "id": "GD8AAKGI87Jr"
      },
      "source": [
        "for i in range(1,31):\n",
        "  if i %15 == 0 :\n",
        "    print('fizzbuzz')\n",
        "  elif i%5 ==0 :\n",
        "    print('buzz')\n",
        "  elif i%3 ==0:\n",
        "    print('fizz')\n",
        "  else:\n",
        "    print(i)"
      ],
      "execution_count": null,
      "outputs": []
    },
    {
      "cell_type": "code",
      "metadata": {
        "colab": {
          "base_uri": "https://localhost:8080/"
        },
        "id": "OiaanMWY9T4m",
        "outputId": "44536e77-5775-4c05-ff7b-b7cbaeb3c575"
      },
      "source": [
        "lis = []\n",
        "for i in range(1,31):\n",
        "  if i%3 ==0:\n",
        "    lis.append(i)\n",
        "print(lis)"
      ],
      "execution_count": 59,
      "outputs": [
        {
          "output_type": "stream",
          "name": "stdout",
          "text": [
            "[3, 6, 9, 12, 15, 18, 21, 24, 27, 30]\n"
          ]
        }
      ]
    },
    {
      "cell_type": "code",
      "metadata": {
        "colab": {
          "base_uri": "https://localhost:8080/"
        },
        "id": "ulF5UneI981B",
        "outputId": "b613e640-bbde-411c-f2d4-ba01ee0a61a8"
      },
      "source": [
        "#演習9 出力結果からindexを独自に作成する必要があることは理解できたが、keyとvalueの「ずれ」またkeyの番目を入力 keyが商になっていること\n",
        "dic ={}\n",
        "for i in range(1,31):\n",
        "  if i%3 == 0:\n",
        "    dic[i] = i\n",
        "print(dic)"
      ],
      "execution_count": 60,
      "outputs": [
        {
          "output_type": "stream",
          "name": "stdout",
          "text": [
            "{3: 3, 6: 6, 9: 9, 12: 12, 15: 15, 18: 18, 21: 21, 24: 24, 27: 27, 30: 30}\n"
          ]
        }
      ]
    },
    {
      "cell_type": "code",
      "metadata": {
        "colab": {
          "base_uri": "https://localhost:8080/"
        },
        "id": "JlLLDdBa_SKS",
        "outputId": "16645d4b-3f9c-4dc1-b3b5-055d7e4f38aa"
      },
      "source": [
        "dic ={}\n",
        "for i in range(1,31):\n",
        "  #index = f'{i//3}番目' #fstringの使い方 \n",
        "  if i%3 == 0:\n",
        "     index = f'{i//3}番目' #fstringの使い方 ここの方が見やすいコード？\n",
        "    dic[index] = i\n",
        "print(f'作成した辞書 : {dic}')"
      ],
      "execution_count": 61,
      "outputs": [
        {
          "output_type": "stream",
          "name": "stdout",
          "text": [
            "作成した辞書 : {'1番目': 3, '2番目': 6, '3番目': 9, '4番目': 12, '5番目': 15, '6番目': 18, '7番目': 21, '8番目': 24, '9番目': 27, '10番目': 30}\n"
          ]
        }
      ]
    },
    {
      "cell_type": "code",
      "metadata": {
        "colab": {
          "base_uri": "https://localhost:8080/"
        },
        "id": "bdjTPO-XAPWw",
        "outputId": "0313782e-2928-4870-d1a7-b161d1cc5fce"
      },
      "source": [
        "lis =[]\n",
        "for i in range(1,41):\n",
        "  if i%3==0 and '3' in str(i):#str(i) in '3'ではダメな理由　\n",
        "    lis.append(i)\n",
        "print(lis)"
      ],
      "execution_count": 64,
      "outputs": [
        {
          "output_type": "stream",
          "name": "stdout",
          "text": [
            "[3, 30, 33, 36, 39]\n"
          ]
        }
      ]
    },
    {
      "cell_type": "code",
      "metadata": {
        "colab": {
          "base_uri": "https://localhost:8080/"
        },
        "id": "b42929CTlLsy",
        "outputId": "9338488e-cab5-479a-84f5-21b70d03baa8"
      },
      "source": [
        "##はやたす100問　セクション3~8 セクション3[５問]\n",
        "weight = 55\n",
        "height = 180/100\n",
        "bmi = weight /height **2\n",
        "print(f'BMI={bmi}')\n",
        "#print(f'BMI= {(weight/height**2)}')"
      ],
      "execution_count": 6,
      "outputs": [
        {
          "output_type": "stream",
          "name": "stdout",
          "text": [
            "BMI=16.975308641975307\n",
            "BMI= 16.975308641975307\n"
          ]
        }
      ]
    },
    {
      "cell_type": "code",
      "metadata": {
        "colab": {
          "base_uri": "https://localhost:8080/"
        },
        "id": "HyV67w-8m05g",
        "outputId": "f7cc6e74-56ec-425a-ee05-ecba6ea54ca0"
      },
      "source": [
        "w = int(input('体重を入力してください(kg)>'))\n",
        "h = int(input('身長を入力してください(cm)>'))/100 #/100の位置\n",
        "bmi = w /h **2\n",
        "print(f'BMI={bmi}')"
      ],
      "execution_count": 11,
      "outputs": [
        {
          "output_type": "stream",
          "name": "stdout",
          "text": [
            "体重を入力してください(kg)55\n",
            "身長を入力してください(cm)180\n",
            "BMI=16.975308641975307\n"
          ]
        }
      ]
    },
    {
      "cell_type": "code",
      "metadata": {
        "colab": {
          "base_uri": "https://localhost:8080/"
        },
        "id": "NucHWWU1nvkQ",
        "outputId": "a5c22e7e-cb28-495c-ba25-f46e6f099122"
      },
      "source": [
        "#演習13\n",
        "#t = int(input('時速(km/h)を入力してください>'))\n",
        "\n",
        "speed = float(input('時速(km/h)を入力してください>')) \n",
        "per_second = speed*1000/60**2 #何故、1000を掛けるのか?が分かっていなかった\n",
        "print(f'秒速 = {per_second}')"
      ],
      "execution_count": 12,
      "outputs": [
        {
          "output_type": "stream",
          "name": "stdout",
          "text": [
            "時速(km/h)を入力してください>72\n",
            "秒速 = 20.0\n"
          ]
        }
      ]
    },
    {
      "cell_type": "code",
      "metadata": {
        "colab": {
          "base_uri": "https://localhost:8080/"
        },
        "id": "0O8cBkuXpVFc",
        "outputId": "ec53c514-a3a0-4def-a0cb-f0b14de475ed"
      },
      "source": [
        "#演習14\n",
        "z = input('整数を入力してください>')\n",
        "x = int(z)\n",
        "y= int(z*3)\n",
        "#z_1 = z*3  #ここでz*3とするとstrではないから、aaa形になっていない\n",
        "print(f'計算結果 : {x+y}')"
      ],
      "execution_count": 18,
      "outputs": [
        {
          "output_type": "stream",
          "name": "stdout",
          "text": [
            "整数を入力してください>2\n",
            "計算結果 : 224\n"
          ]
        }
      ]
    },
    {
      "cell_type": "code",
      "metadata": {
        "colab": {
          "base_uri": "https://localhost:8080/"
        },
        "id": "PSNyO9SMml6C",
        "outputId": "c58507b4-2519-448f-a250-b3d82adbdb28"
      },
      "source": [
        "a = int(input('1つ目の整数を入力してください>'))\n",
        "b = int(input('2つ目の整数を入力してください>'))\n",
        "c = a-b\n",
        "if c<0:\n",
        "  c = -c\n",
        "print(f'計算結果 : {c}')   \n",
        "#r = -r if r<0  else rの一行でも書ける"
      ],
      "execution_count": 20,
      "outputs": [
        {
          "output_type": "stream",
          "name": "stdout",
          "text": [
            "1つ目の整数を入力してください>4\n",
            "2つ目の整数を入力してください>1\n",
            "計算結果 : 3\n"
          ]
        }
      ]
    },
    {
      "cell_type": "code",
      "metadata": {
        "colab": {
          "base_uri": "https://localhost:8080/"
        },
        "id": "rl0Wg_RGrweP",
        "outputId": "ae2c90d5-7f40-4d79-b2d8-91df66b6d32a"
      },
      "source": [
        "#セクション4 文字列型[10問]\n",
        "word = input('文字を入力してください>')\n",
        "c = 0\n",
        "#for i in inp_str:#定義した変数を使わない場合、_を使う\n",
        "for _ in word:\n",
        "  c+=1\n",
        "print(f'{word}の文字数{c}') #print文の位置　インデントを入れるかどうか？　"
      ],
      "execution_count": 25,
      "outputs": [
        {
          "output_type": "stream",
          "name": "stdout",
          "text": [
            "文字を入力してください>Python\n",
            "Pythonの文字数6\n"
          ]
        }
      ]
    },
    {
      "cell_type": "code",
      "metadata": {
        "colab": {
          "base_uri": "https://localhost:8080/"
        },
        "id": "3QL2xzsjs4OT",
        "outputId": "5670f86d-626b-4cc7-abae-75ada0a15fe7"
      },
      "source": [
        "word = input('文字を入力してください>')\n",
        "print(f'{word}の最初の文字{word[0]}')\n",
        "print(f'{word}の最後の文字{word[-1]}')"
      ],
      "execution_count": 27,
      "outputs": [
        {
          "output_type": "stream",
          "name": "stdout",
          "text": [
            "文字を入力してください>Python\n",
            "Pythonの最初の文字P\n",
            "Pythonの最後の文字n\n"
          ]
        }
      ]
    },
    {
      "cell_type": "code",
      "metadata": {
        "id": "0Ho7HRjRtYyJ"
      },
      "source": [
        "#演習18 　失敗ver keyを個別に作成する必要があると思い込んでいた\n",
        "word = input('文字列を入力してください>')\n",
        "dic = {}\n",
        "count = 0\n",
        "for w in word:\n",
        "  if w not in dic:\n",
        "    dic = w"
      ],
      "execution_count": null,
      "outputs": []
    },
    {
      "cell_type": "code",
      "metadata": {
        "colab": {
          "base_uri": "https://localhost:8080/"
        },
        "id": "HZIxI1a6u56s",
        "outputId": "3d923a90-4d2a-43ba-d06a-29d3c8e55c02"
      },
      "source": [
        "word = input('文字列を入力してください>')\n",
        "dic = {}\n",
        "for w in word:\n",
        "  if w in dic.keys():\n",
        "    dic[w] +=1\n",
        "  else:\n",
        "    dic[w] = 1 #0でいいのか？\n",
        "print(dic)    "
      ],
      "execution_count": 33,
      "outputs": [
        {
          "output_type": "stream",
          "name": "stdout",
          "text": [
            "文字列を入力してください>PythonPractice\n",
            "{'P': 2, 'y': 1, 't': 2, 'h': 1, 'o': 1, 'n': 1, 'r': 1, 'a': 1, 'c': 2, 'i': 1, 'e': 1}\n"
          ]
        }
      ]
    },
    {
      "cell_type": "code",
      "metadata": {
        "colab": {
          "base_uri": "https://localhost:8080/"
        },
        "id": "kQDFtHcTvshU",
        "outputId": "7993220e-139d-47a5-aac1-c1986c7e87d3"
      },
      "source": [
        "#演習19 失敗ver listに格納する場合は空のリストを作成した　→①文字列の場合は?　②for文のcontinueとbreakの違いと使い方 ③文字列の結合の仕方(今回は格納?)\n",
        "word = input('文字列を入力してください>')\n",
        "vowels = ['a','i','u','e','o']\n",
        "for w in word:\n",
        "  if w not in vowels:\n",
        "    "
      ],
      "execution_count": 34,
      "outputs": [
        {
          "output_type": "stream",
          "name": "stdout",
          "text": [
            "文字列を入力してください>Python\n",
            "['P', 'y', 't', 'h', 'n']\n"
          ]
        }
      ]
    },
    {
      "cell_type": "code",
      "metadata": {
        "colab": {
          "base_uri": "https://localhost:8080/"
        },
        "id": "GqTBJClhw9Bz",
        "outputId": "997fc8c3-5ca8-4352-a8cb-3d1084f756be"
      },
      "source": [
        "word = input('文字列を入力してください>')\n",
        "vowels = ['a','i','u','e','o']\n",
        "new_word = \"\"\n",
        "for w in word:\n",
        "  if w in vowels:\n",
        "    continue\n",
        "  new_word += w\n",
        "print(new_word)"
      ],
      "execution_count": 35,
      "outputs": [
        {
          "output_type": "stream",
          "name": "stdout",
          "text": [
            "文字列を入力してください>Python\n",
            "Pythn\n"
          ]
        }
      ]
    },
    {
      "cell_type": "code",
      "metadata": {
        "colab": {
          "base_uri": "https://localhost:8080/"
        },
        "id": "qEDZh50AxnNe",
        "outputId": "06514d25-0c76-4c08-c87d-8bf3e9ed28b1"
      },
      "source": [
        "#演習20 小文字に変換は.lower()?\n",
        "word = input('英単語を入力してください>')\n",
        "word = word.upper()\n",
        "print(f'変換後の文字列 : {word}')"
      ],
      "execution_count": 36,
      "outputs": [
        {
          "output_type": "stream",
          "name": "stdout",
          "text": [
            "英単語を入力してください>python\n",
            "変換後の文字列 : PYTHON\n"
          ]
        }
      ]
    },
    {
      "cell_type": "code",
      "metadata": {
        "colab": {
          "base_uri": "https://localhost:8080/"
        },
        "id": "DXpvJi-cyGYA",
        "outputId": "8c2dbeab-aacf-4c1f-ef5f-0cbba1bff54a"
      },
      "source": [
        "#演習21  先頭の1文字が小文字であるならばの条件文\n",
        "word = input('文字列を入力してください>')\n",
        "#for w in word: for文を今回使う必要があったのかを考えなければいけない\n",
        "if word[0].islower():\n",
        "  word = word[0].upper() + word[1:]\n",
        "#TypeError: unsupported operand type(s) for +: 'builtin_function_or_method' and 'str' →.upper()の()が必要\n",
        "\n",
        "  #word[0] = word[0].upper() \n",
        "#TypeError: 'str' object does not support item assignment  \n",
        "elif word[0].upper():\n",
        "  word = word*2\n",
        "print(f'変換後の文字列 : {word}')"
      ],
      "execution_count": 41,
      "outputs": [
        {
          "output_type": "stream",
          "name": "stdout",
          "text": [
            "文字列を入力してください>Python\n",
            "変換後の文字列 : PythonPython\n"
          ]
        }
      ]
    },
    {
      "cell_type": "code",
      "metadata": {
        "colab": {
          "base_uri": "https://localhost:8080/"
        },
        "id": "3_0uqipb0p47",
        "outputId": "15b35aa3-a38a-4bd6-f25a-962d1e5dab3b"
      },
      "source": [
        "#演習22 解答を簡略化させすぎている？→PHPを先に入力すると出力結果が題意を満たせていない\n",
        "word1 = input('1つ目の文字列を入力してください>')\n",
        "word2 = input('2つ目の文字列を入力してください>')\n",
        "for w in word1:\n",
        "  if w in word2:\n",
        "    print(f'重複する文字列 : {w}')"
      ],
      "execution_count": 42,
      "outputs": [
        {
          "output_type": "stream",
          "name": "stdout",
          "text": [
            "1つ目の文字列を入力してください>Python\n",
            "2つ目の文字列を入力してください>PHP\n",
            "重複する文字列 : P\n"
          ]
        }
      ]
    },
    {
      "cell_type": "code",
      "metadata": {
        "colab": {
          "base_uri": "https://localhost:8080/"
        },
        "id": "b5BO-PA01VuZ",
        "outputId": "8ccac783-de6f-4d96-dccf-6842becfcfc1"
      },
      "source": [
        "word1 = input('1つ目の文字列を入力してください>')\n",
        "word2 = input('2つ目の文字列を入力してください>')\n",
        "r = \"\"\n",
        "for w in word1:\n",
        "  #if w in word2 and w not in r\n",
        "#SyntaxError: invalid syntax\n",
        "  if w in word2 and w not in r:\n",
        "    r += w\n",
        "print(r)"
      ],
      "execution_count": 45,
      "outputs": [
        {
          "output_type": "stream",
          "name": "stdout",
          "text": [
            "1つ目の文字列を入力してください>PHP\n",
            "2つ目の文字列を入力してください>Python\n",
            "P\n"
          ]
        }
      ]
    },
    {
      "cell_type": "code",
      "metadata": {
        "colab": {
          "base_uri": "https://localhost:8080/"
        },
        "id": "ib0wx6J12FSd",
        "outputId": "a590ae6a-a48e-48b2-a67a-ee9559d01cc3"
      },
      "source": [
        "#演習23 　冒頭の大学院講義の.split(), join()の応用例　→for文を回さなくても良い（今回はその訳ではない)\n",
        "sentence1 = input('1つ目の英文を入力してください>')\n",
        "sentence2 = input('2つ目の英文を入力してください>')\n",
        "\n",
        "sentence1 = sentence1.split()\n",
        "sentence2 = sentence2.split()\n",
        "\n",
        "r = []\n",
        "for word in sentence1:\n",
        "  if word in sentence2 and word not in r :\n",
        "     r.append(word)\n",
        "print(f'重複する文字列 : {r}')"
      ],
      "execution_count": 48,
      "outputs": [
        {
          "output_type": "stream",
          "name": "stdout",
          "text": [
            "1つ目の英文を入力してください>Python is easy\n",
            "2つ目の英文を入力してください>PHP is easy\n",
            "重複する文字列 : ['is', 'easy']\n"
          ]
        }
      ]
    },
    {
      "cell_type": "code",
      "metadata": {
        "id": "szi8_4BB6_06"
      },
      "source": [
        "#演習24 ①単語の長さ　計算 len()ではダメな理由は? ②挿入の真ん中の指定の仕方　index = \n",
        "word = input('英単語を入力してください>')\n",
        "if len(word)%2 ==0:\n",
        "  word = word[]"
      ],
      "execution_count": null,
      "outputs": []
    },
    {
      "cell_type": "code",
      "metadata": {
        "colab": {
          "base_uri": "https://localhost:8080/"
        },
        "id": "1L-eV4238ViL",
        "outputId": "4844b1dd-a2c8-4d0e-fd83-c88553140e7a"
      },
      "source": [
        "word = input('英単語を入力してください>')\n",
        "count = 0\n",
        "for _ in word:\n",
        "  count +=1\n",
        "print(count)\n",
        "\n",
        "index = count//2\n",
        "\n",
        "if count%2 ==0:\n",
        "  word = word[:index] + '@' + word[index:]\n",
        "else:\n",
        "  word = word[:index] + '@' + word[index+1:]\n",
        "print(f'変換後の文字列 :{word}')"
      ],
      "execution_count": 52,
      "outputs": [
        {
          "output_type": "stream",
          "name": "stdout",
          "text": [
            "英単語を入力してください>php\n",
            "3\n",
            "変換後の文字列 :p@p\n"
          ]
        }
      ]
    },
    {
      "cell_type": "code",
      "metadata": {
        "colab": {
          "base_uri": "https://localhost:8080/"
        },
        "id": "Rp70vVw19xsY",
        "outputId": "77f3d264-2c9b-4efd-fc7d-cf887a9159a8"
      },
      "source": [
        "#演習25 解答の出力形式が[]で格納されていないことに注目\n",
        "word1 = input('英単語を入力してください>')\n",
        "word2 = input('英単語を入力してください>')\n",
        "word3 = input('英単語を入力してください>')\n",
        "words = [word1,word2,word3]\n",
        "w_sorted = sorted(w)\n",
        "print(f'並び替えた文字列 : {w_sorted}')"
      ],
      "execution_count": 53,
      "outputs": [
        {
          "output_type": "stream",
          "name": "stdout",
          "text": [
            "英単語を入力してください>Python\n",
            "英単語を入力してください>Ruby\n",
            "英単語を入力してください>Java\n",
            "並び替えた文字列 : ['Java', 'Python', 'Ruby']\n"
          ]
        }
      ]
    },
    {
      "cell_type": "code",
      "metadata": {
        "colab": {
          "base_uri": "https://localhost:8080/"
        },
        "id": "OVzfqlpn-gpw",
        "outputId": "6e865e80-8534-45b3-976e-51ecefb7d144"
      },
      "source": [
        "word1 = input('英単語を入力してください>')\n",
        "word2 = input('英単語を入力してください>')\n",
        "word3 = input('英単語を入力してください>')\n",
        "words = [word1,word2,word3]\n",
        "words.sort() #sortは破壊型のメソッド\n",
        "sort_words = ','.join(words)\n",
        "print(f'並び替えた文字列 : {sort_words}')"
      ],
      "execution_count": 55,
      "outputs": [
        {
          "output_type": "stream",
          "name": "stdout",
          "text": [
            "英単語を入力してください>Python\n",
            "英単語を入力してください>Ruby\n",
            "英単語を入力してください>Java\n",
            "並び替えた文字列 : Java,Python,Ruby\n"
          ]
        }
      ]
    }
  ]
}