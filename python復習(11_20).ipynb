{
  "nbformat": 4,
  "nbformat_minor": 0,
  "metadata": {
    "colab": {
      "name": "python復習(11/20).ipynb",
      "provenance": [],
      "authorship_tag": "ABX9TyPAQ2rXRW/EhaFfh0GHATor",
      "include_colab_link": true
    },
    "kernelspec": {
      "name": "python3",
      "display_name": "Python 3"
    },
    "language_info": {
      "name": "python"
    }
  },
  "cells": [
    {
      "cell_type": "markdown",
      "metadata": {
        "id": "view-in-github",
        "colab_type": "text"
      },
      "source": [
        "<a href=\"https://colab.research.google.com/github/masakitanka/sample-repo/blob/main/python%E5%BE%A9%E7%BF%92(11_20).ipynb\" target=\"_parent\"><img src=\"https://colab.research.google.com/assets/colab-badge.svg\" alt=\"Open In Colab\"/></a>"
      ]
    },
    {
      "cell_type": "code",
      "metadata": {
        "colab": {
          "base_uri": "https://localhost:8080/"
        },
        "id": "DjSLJfpObMov",
        "outputId": "20012ffe-ed5c-4ef1-add5-3a629f2a72dd"
      },
      "source": [
        "#大学院講義第1回　問4\n",
        "s_comma = 'zero, one, two , three'\n",
        "print(s_comma.split(','))\n",
        "print(s_comma)\n",
        "\n",
        "s_list = s_comma.split(',')\n",
        "new_comma = ','.join(s_list)\n",
        "print(new_comma)"
      ],
      "execution_count": 5,
      "outputs": [
        {
          "output_type": "stream",
          "name": "stdout",
          "text": [
            "['zero', ' one', ' two ', ' three']\n",
            "zero, one, two , three\n",
            "zero, one, two , three\n"
          ]
        }
      ]
    },
    {
      "cell_type": "code",
      "metadata": {
        "colab": {
          "base_uri": "https://localhost:8080/",
          "height": 134
        },
        "id": "iiNanhXWdD98",
        "outputId": "c30368ab-ca53-46de-db09-18e1f0cd7b96"
      },
      "source": [
        "#AIJobColle　Q4.2 ~ Q4.6\n",
        "def func(x,y):\n",
        "  return x+y \n",
        "func(3,4)  "
      ],
      "execution_count": 9,
      "outputs": [
        {
          "output_type": "error",
          "ename": "IndentationError",
          "evalue": "ignored",
          "traceback": [
            "\u001b[0;36m  File \u001b[0;32m\"<ipython-input-9-811a11f7b897>\"\u001b[0;36m, line \u001b[0;32m3\u001b[0m\n\u001b[0;31m    return x+y\u001b[0m\n\u001b[0m    ^\u001b[0m\n\u001b[0;31mIndentationError\u001b[0m\u001b[0;31m:\u001b[0m unexpected indent\n"
          ]
        }
      ]
    },
    {
      "cell_type": "code",
      "metadata": {
        "colab": {
          "base_uri": "https://localhost:8080/"
        },
        "id": "sel96eyjd2LH",
        "outputId": "3ec59688-4149-48b3-8d6f-ba88aebea66f"
      },
      "source": [
        "#Q4.3\n",
        "def func(z):\n",
        "  if z >=100:\n",
        "    return z\n",
        "func(101) "
      ],
      "execution_count": 8,
      "outputs": [
        {
          "output_type": "execute_result",
          "data": {
            "text/plain": [
              "101"
            ]
          },
          "metadata": {},
          "execution_count": 8
        }
      ]
    },
    {
      "cell_type": "code",
      "metadata": {
        "colab": {
          "base_uri": "https://localhost:8080/"
        },
        "id": "Zo5zZHYmeTzU",
        "outputId": "40dc49e7-5b6e-4efc-9d7b-6e9455c1999b"
      },
      "source": [
        "def func(x):\n",
        "  return print(len(str(x)))\n",
        "\n",
        "func(12345)"
      ],
      "execution_count": 12,
      "outputs": [
        {
          "output_type": "stream",
          "name": "stdout",
          "text": [
            "5\n"
          ]
        }
      ]
    },
    {
      "cell_type": "code",
      "metadata": {
        "colab": {
          "base_uri": "https://localhost:8080/"
        },
        "id": "kfy1wgqCe4Wa",
        "outputId": "4705582e-2944-4588-c5d5-9867f7de6734"
      },
      "source": [
        "(lambda x,y : x+y)(1,2)  "
      ],
      "execution_count": 14,
      "outputs": [
        {
          "output_type": "execute_result",
          "data": {
            "text/plain": [
              "3"
            ]
          },
          "metadata": {},
          "execution_count": 14
        }
      ]
    },
    {
      "cell_type": "code",
      "metadata": {
        "colab": {
          "base_uri": "https://localhost:8080/"
        },
        "id": "t-6l47rUfCsH",
        "outputId": "1494daff-4eba-442e-eb32-0ca74ed17ed5"
      },
      "source": [
        "#はやたす100問　セクション2 演習9\n",
        "dic = {}\n",
        "#count = 0\n",
        "for i in range(1,31):\n",
        "  #count+=1\n",
        "  if i%3 ==0:\n",
        "    #key = f'{count//3}番目'\n",
        "    key = f'{i//3}番目'\n",
        "    dic[key] = i\n",
        "print(f'作成した辞書 : {dic}') "
      ],
      "execution_count": 17,
      "outputs": [
        {
          "output_type": "stream",
          "name": "stdout",
          "text": [
            "作成した辞書 : {'1番目': 3, '2番目': 6, '3番目': 9, '4番目': 12, '5番目': 15, '6番目': 18, '7番目': 21, '8番目': 24, '9番目': 27, '10番目': 30}\n"
          ]
        }
      ]
    },
    {
      "cell_type": "code",
      "metadata": {
        "colab": {
          "base_uri": "https://localhost:8080/"
        },
        "id": "aeJkuUN9hAH0",
        "outputId": "7e25449f-619e-4d81-a707-09d7385abfa4"
      },
      "source": [
        "#セクション3 演習13\n",
        "speed = float(input('時速(km/h)を入力してください>'))\n",
        "per_second = speed*1000/60**2\n",
        "print(f'秒速 = {per_second}(m/s) ')"
      ],
      "execution_count": 20,
      "outputs": [
        {
          "output_type": "stream",
          "name": "stdout",
          "text": [
            "時速(km/h)を入力してください>72\n",
            "秒速 = 20.0(m/s) \n"
          ]
        }
      ]
    },
    {
      "cell_type": "code",
      "metadata": {
        "colab": {
          "base_uri": "https://localhost:8080/"
        },
        "id": "fQj-ryFtgr3Z",
        "outputId": "f68f2383-863b-4d0d-d2c6-2505d93c1bb8"
      },
      "source": [
        "#セクション3 演習14\n",
        "z = input('整数を入力してください>')\n",
        "a = int(z*3)\n",
        "b= int(z)\n",
        "print(f'計算結果 : { a+ b}')"
      ],
      "execution_count": 21,
      "outputs": [
        {
          "output_type": "stream",
          "name": "stdout",
          "text": [
            "整数を入力してください>2\n",
            "計算結果 : 224\n"
          ]
        }
      ]
    },
    {
      "cell_type": "code",
      "metadata": {
        "colab": {
          "base_uri": "https://localhost:8080/"
        },
        "id": "YlI337kTifDL",
        "outputId": "af153d14-c5e8-4f8a-fb63-7dc1efdf284b"
      },
      "source": [
        "##セクション4 演習18\n",
        "word = input('文字列を入力してください>')\n",
        "\n",
        "dic = {}\n",
        "for w in word:\n",
        "  #if w in dic: dic.keys()と出力が同じ？\n",
        "  if w in dic.keys():\n",
        "    dic[w] +=1\n",
        "  else:\n",
        "    dic[w] = 1\n",
        "\n",
        "print(dic)"
      ],
      "execution_count": 23,
      "outputs": [
        {
          "output_type": "stream",
          "name": "stdout",
          "text": [
            "文字列を入力してください>PythonPractice\n",
            "{'P': 2, 'y': 1, 't': 2, 'h': 1, 'o': 1, 'n': 1, 'r': 1, 'a': 1, 'c': 2, 'i': 1, 'e': 1}\n"
          ]
        }
      ]
    },
    {
      "cell_type": "code",
      "metadata": {
        "id": "iQK64dTVbTqX"
      },
      "source": [
        ""
      ],
      "execution_count": null,
      "outputs": []
    },
    {
      "cell_type": "code",
      "metadata": {
        "colab": {
          "base_uri": "https://localhost:8080/"
        },
        "id": "zk47Vb3bj0Dd",
        "outputId": "b2a7e548-183b-43fb-bdf3-8076a8c0c290"
      },
      "source": [
        "#セクション4 演習19\n",
        "vowels = ['a','i','u','e','o']\n",
        "word = input('文字列を入力してください')\n",
        "\n",
        "new_word = ''\n",
        "for w in word:\n",
        "  if w in vowels:\n",
        "    continue\n",
        "  else:\n",
        "    new_word += w\n",
        "print(f'作成した文字列 {new_word}') "
      ],
      "execution_count": 24,
      "outputs": [
        {
          "output_type": "stream",
          "name": "stdout",
          "text": [
            "文字列を入力してくださいPython\n",
            "作成した文字列 Pythn\n"
          ]
        }
      ]
    },
    {
      "cell_type": "code",
      "metadata": {
        "colab": {
          "base_uri": "https://localhost:8080/"
        },
        "id": "nTENRRfekpwe",
        "outputId": "15cba850-ee3d-4b29-9231-f2ed9a1aa591"
      },
      "source": [
        "#セクション4 演習20\n",
        "word = input('英単語を入力してください')\n",
        "new_word = word.upper()\n",
        "print(f'変換後の文字列 : {new_word}')"
      ],
      "execution_count": 25,
      "outputs": [
        {
          "output_type": "stream",
          "name": "stdout",
          "text": [
            "英単語を入力してくださいpython\n",
            "変換後の文字列 : PYTHON\n"
          ]
        }
      ]
    },
    {
      "cell_type": "code",
      "metadata": {
        "colab": {
          "base_uri": "https://localhost:8080/"
        },
        "id": "5EWjII11lGS1",
        "outputId": "bc576e17-3ab7-4f1a-9c58-1222581df1ff"
      },
      "source": [
        "#演習21\n",
        "word = input('文字列を入力してください>')\n",
        "\n",
        "if word[0].islower():\n",
        "  word = word[0].upper() + word[1:]\n",
        "elif word[0].isupper():\n",
        "  word = word*2\n",
        "\n",
        "print(f'変換後の文字列 : {word}')"
      ],
      "execution_count": 28,
      "outputs": [
        {
          "output_type": "stream",
          "name": "stdout",
          "text": [
            "文字列を入力してくださいpyhton\n",
            "変換後の文字列 : Pyhton\n"
          ]
        }
      ]
    },
    {
      "cell_type": "code",
      "metadata": {
        "colab": {
          "base_uri": "https://localhost:8080/"
        },
        "id": "u57z9Y3FmijY",
        "outputId": "2e922721-31b7-4136-dd2e-ed5ad27e81e8"
      },
      "source": [
        "#演習22\n",
        "word1 = input('1つ目の文字列を入力してください>')\n",
        "word2 = input('2つ目の文字列を入力してください>')\n",
        "\n",
        "r = \"\"\n",
        "for w in word1:\n",
        "  if w in word2 and w not in r:\n",
        "    r += w\n",
        "print(f'重複する文字列 : {r}')"
      ],
      "execution_count": 1,
      "outputs": [
        {
          "output_type": "stream",
          "name": "stdout",
          "text": [
            "1つ目の文字列を入力してください>python\n",
            "2つ目の文字列を入力してください>php\n",
            "重複する文字列 : ph\n"
          ]
        }
      ]
    },
    {
      "cell_type": "code",
      "metadata": {
        "colab": {
          "base_uri": "https://localhost:8080/"
        },
        "id": "vTN_7lb2YpTO",
        "outputId": "b98c2e07-a921-4a12-8e88-23188d117a8b"
      },
      "source": [
        "##演習23\n",
        "\n",
        "sentence1 = input('1つ目の英文を入力してください>').split(',') #split()のデフォルト設定\n",
        "sentence2 = input('2つ目の英文を入力してください>').split(',')\n",
        "\n",
        "#print(sentence1)\n",
        "a = \", \".join(sentence1)\n",
        "b = \", \".join(sentence1)\n",
        "\n",
        "print(a)\n",
        "\n",
        "r = []\n",
        "for s in a :\n",
        "  if s in b and s not in r:\n",
        "    r += s #リストの要素追加は？\n",
        "\n",
        "print(f'重複する英単語 : {r}')"
      ],
      "execution_count": 5,
      "outputs": [
        {
          "output_type": "stream",
          "name": "stdout",
          "text": [
            "1つ目の英文を入力してください>python is hard\n",
            "2つ目の英文を入力してください>php is easy\n",
            "python is hard\n",
            "重複する英単語 : ['p', 'y', 't', 'h', 'o', 'n', ' ', 'i', 's', 'a', 'r', 'd']\n"
          ]
        }
      ]
    },
    {
      "cell_type": "code",
      "metadata": {
        "colab": {
          "base_uri": "https://localhost:8080/"
        },
        "id": "YWRV7YjVbloh",
        "outputId": "ec4aa29a-f9c2-4ad8-9f2a-dc521cdb9ac4"
      },
      "source": [
        "sentence1 = input('1つ目の英文を入力してください>').split() \n",
        "sentence2 = input('2つ目の英文を入力してください>').split()\n",
        "\n",
        "print(sentence1)\n",
        "#a = \", \".join(sentence1)\n",
        "#b = \", \".join(sentence1)\n",
        "\n",
        "\n",
        "r = []\n",
        "for s in sentence1 :\n",
        "  if s in sentence2 and s not in r:\n",
        "    r.append(s) #リストの要素追加は？\n",
        "\n",
        "print(f'重複する英単語 : {r}')"
      ],
      "execution_count": 11,
      "outputs": [
        {
          "output_type": "stream",
          "name": "stdout",
          "text": [
            "1つ目の英文を入力してください>python is hard\n",
            "2つ目の英文を入力してください>php is easy\n",
            "['python', 'is', 'hard']\n",
            "重複する英単語 : ['is']\n"
          ]
        }
      ]
    },
    {
      "cell_type": "code",
      "metadata": {
        "colab": {
          "base_uri": "https://localhost:8080/"
        },
        "id": "wwZpDd17bWOj",
        "outputId": "3ac07c3b-3161-44d4-e08b-2faf31a5ba21"
      },
      "source": [
        "##演習24\n",
        "word = input('英単語を入力してください>')\n",
        "\n",
        "count= 0\n",
        "index = count//2\n",
        "\n",
        "for w in word:\n",
        "  count +=1\n",
        "  if count%2 ==0:\n",
        "    word = word[:index] + '@' + word[index:]\n",
        "  else:\n",
        "    word = word[:index] + '@' + word[index+1:]\n",
        "print(count)\n",
        "print(f'変換した英単語 : {word}')"
      ],
      "execution_count": 13,
      "outputs": [
        {
          "output_type": "stream",
          "name": "stdout",
          "text": [
            "英単語を入力してください>python\n",
            "6\n",
            "変換した英単語 : @@@@ython\n"
          ]
        }
      ]
    },
    {
      "cell_type": "code",
      "metadata": {
        "id": "roKbPu8Adv2U"
      },
      "source": [
        "#indexの位置　for文の処理内容後に反映させる必要があった　if文とelse文のインデント　\n",
        "word = input('英単語を入力してください>')\n",
        "\n",
        "count= 0\n",
        "#index1 = count//2\n",
        "#print(index1)\n",
        "\n",
        "for _ in word:\n",
        "  count +=1\n",
        "  index = count//2\n",
        "\n",
        "if count%2 ==0:\n",
        "  word = word[:index] + '@' + word[index:]\n",
        "else:\n",
        "  word = word[:index] + '@' + word[index+1:]\n",
        "print(count)\n",
        "print(index)\n",
        "print(f'変換した英単語 : {word}')"
      ],
      "execution_count": null,
      "outputs": []
    },
    {
      "cell_type": "code",
      "metadata": {
        "id": "ClfVdlHceeb2"
      },
      "source": [
        "#演習25\n",
        "\n",
        "word1 = input('1つ目の英単語を入力してください>')\n",
        "word2 = input('2つ目の英単語を入力してください>')\n",
        "word3 = input('3つ目の英単語を入力してください>')\n",
        "\n",
        "words = [word1,word2,word3]\n",
        "\n",
        "words.sort(p)\n",
        "\n",
        "sorted_words = ','.join(words)\n",
        "print(f'並び替えた文字列 : {sorted_words}')\n"
      ],
      "execution_count": null,
      "outputs": []
    }
  ]
}